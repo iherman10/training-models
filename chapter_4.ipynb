{
 "cells": [
  {
   "cell_type": "markdown",
   "id": "bc8b6221-2523-4a96-8b95-0b1a265c1a00",
   "metadata": {},
   "source": [
    "We want to make the transition from using ML algorithms like black boxes, to more deeply understanding what's happening under the hood. This will allow us to:\n",
    "- Home in on the appropriate model, training algorithm, and hyperparameters. \n",
    "- Debug issues and perform error analysis more efficiently. \n",
    "- Build and train neural networks. \n",
    "\n",
    "We'll start by looking at Linear Regression, and two different ways to train it:\n",
    "- Using a \"closed-form\" equation. \n",
    "- Using \"Gradient Descent\". "
   ]
  },
  {
   "cell_type": "code",
   "execution_count": null,
   "id": "f1e25451-4ef5-4c55-992d-d8f8d59ba259",
   "metadata": {},
   "outputs": [],
   "source": []
  }
 ],
 "metadata": {
  "kernelspec": {
   "display_name": "Python 3 (ipykernel)",
   "language": "python",
   "name": "python3"
  },
  "language_info": {
   "codemirror_mode": {
    "name": "ipython",
    "version": 3
   },
   "file_extension": ".py",
   "mimetype": "text/x-python",
   "name": "python",
   "nbconvert_exporter": "python",
   "pygments_lexer": "ipython3",
   "version": "3.11.4"
  }
 },
 "nbformat": 4,
 "nbformat_minor": 5
}
